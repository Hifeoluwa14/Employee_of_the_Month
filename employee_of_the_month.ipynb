{
 "cells": [
  {
   "cell_type": "code",
   "execution_count": 1,
   "id": "7ae3a216",
   "metadata": {},
   "outputs": [],
   "source": [
    "def employee_check(work_hours):\n",
    "    #work_hours is a list of tuples\n",
    "    \n",
    "    current_max_hour = 0\n",
    "    # current_max_hour retain maximum hour when running through hours worked by each staff\n",
    "    \n",
    "    hours_worked =[]\n",
    "    # hours_worked helps to save hours in a list\n",
    "    \n",
    "    employee_of_month = []\n",
    "    # employee_of_month helps save employees name with maximum hour in a list\n",
    "    \n",
    "    for employee,hours in work_hours:\n",
    "    # This helps to run through each tuple in the list\n",
    "    \n",
    "    \n",
    "        if current_max_hour == hours:\n",
    "        #It checks if employee hour is the same as current maximum hour    \n",
    "        \n",
    "            employee_of_month.append(employee)\n",
    "            #It add the name of the of the employee with same hour as the maximum hour\n",
    "            \n",
    "            hours_worked.append(hours)         \n",
    "            #It add the hour worked as that of the current maximum hours worked\n",
    "            \n",
    "        elif hours > current_max_hour:\n",
    "        #this checks the current employee hour is more than the current maximum hour \n",
    "        \n",
    "            employee_of_month.clear()\n",
    "            #It clears the list because the new employee is more than the current maximum hour    \n",
    "            \n",
    "            hours_worked.clear()\n",
    "            #It clears the list because there is a new maximum hour \n",
    "            \n",
    "            current_max_hour = hours\n",
    "            #the new hour becomes the new maximum hour\n",
    "            \n",
    "            employee_of_month.append(employee)\n",
    "            #It add name of the employee to the cleared list of employee_of_month\n",
    "            \n",
    "            hours_worked.append(hours)\n",
    "            #It add the current hour to the cleared list of hours_worked\n",
    "            \n",
    "        else:\n",
    "            pass\n",
    "            #In the case where the hour isn't the same or more than maximum hour then it is irrelevant \n",
    "            \n",
    "    return list(zip(employee_of_month,hours_worked))\n",
    "    #this helps to return a list of tuple(s) "
   ]
  },
  {
   "cell_type": "code",
   "execution_count": 2,
   "id": "ad691deb",
   "metadata": {},
   "outputs": [
    {
     "data": {
      "text/plain": [
       "[('Billy', 1100), ('Cassie', 1100), ('Peter', 1100), ('John', 1100)]"
      ]
     },
     "execution_count": 2,
     "metadata": {},
     "output_type": "execute_result"
    }
   ],
   "source": [
    "work_hours = [('Abby',100),('Billy',1100),('Cassie',1100),('Peter',1100),('John',1100)]\n",
    "employee_check(work_hours)"
   ]
  }
 ],
 "metadata": {
  "kernelspec": {
   "display_name": "Python 3 (ipykernel)",
   "language": "python",
   "name": "python3"
  },
  "language_info": {
   "codemirror_mode": {
    "name": "ipython",
    "version": 3
   },
   "file_extension": ".py",
   "mimetype": "text/x-python",
   "name": "python",
   "nbconvert_exporter": "python",
   "pygments_lexer": "ipython3",
   "version": "3.10.9"
  }
 },
 "nbformat": 4,
 "nbformat_minor": 5
}
